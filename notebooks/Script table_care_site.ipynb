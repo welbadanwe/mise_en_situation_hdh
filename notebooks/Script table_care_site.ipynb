{
 "cells": [
  {
   "cell_type": "markdown",
   "metadata": {},
   "source": [
    "##### Hypothese :\n",
    "location_id est la clé primaire de la table location, qui est basée sur l'identification de maniere unique d'une localisation, sous plusieurs données, et dans notre cas, on a que le departement de residence, on considerera qu'elle est la location_id, car il n'est pas necessaire de créer une table location, qui n'aura pas toute les données\n",
    "\n",
    "Au travers des joinctures, il n'existerait pas de localisation connues pour ces etablissements, objectivement parlant, une valeur par defaut est imputée "
   ]
  },
  {
   "cell_type": "code",
   "execution_count": 31,
   "metadata": {},
   "outputs": [],
   "source": [
    "import sqlite3\n",
    "import pandas as pd\n",
    "\n",
    "#Charger les données necessaires\n",
    "etablissement_info = pd.read_csv(\"t_mcoaae.csv\")\n",
    "prestations_remboursees = pd.read_csv(\"er_prs_f.csv\")\n",
    "assurance_info = pd.read_csv(\"ir_ben_r.csv\")\n",
    "\n",
    "#créer les colonnes necessaires\n",
    "care_site = pd.DataFrame()\n",
    "care_site['cc_site_id'] = range(1, len(etablissement_info) +1)\n",
    "care_site['care_site_name'] = etablissement_info['soc_rai']\n",
    "care_site['care_site_source_value'] = etablissement_info['eta_num']\n",
    "care_site\n",
    "\n",
    "#Faire les joinctures pour recuperer la location_id\n",
    "prestations_remboursees['etb_pre_fin'] = prestations_remboursees['etb_pre_fin'].fillna('0')\n",
    "prestations_remboursees['etb_pre_fin'] = prestations_remboursees['etb_pre_fin'].astype(int)\n",
    "table = pd.merge(prestations_remboursees, etablissement_info, left_on='etb_pre_fin', right_on='eta_num', how='inner')\n",
    "table1 = pd.merge(table, assurance_info, on='NUM_ENQ', how='inner')\n",
    "\n",
    "#Aucune valeur ne correspond, on va imputer une valeur par defaut à location_id\n",
    "care_site['location_id'] = care_site.get('location_id', 0)\n",
    "\n",
    "#SQLite\n",
    "conn = sqlite3.connect(\"omop.db\")\n",
    "cursor = conn.cursor()\n",
    "\n",
    "cursor.execute  (''' create table if not exists care_site \n",
    "                    (   cc_site_id integer primary key, \n",
    "                        care_site_name  varchar(255) not null,\n",
    "                        location_id integer, \n",
    "                        care_site_source_value varchar(50),\n",
    "                        foreign key (location_id) references location (location_id)\n",
    "                    ) '''      \n",
    "                ) \n",
    "\n",
    "#Insérer dans notre table\n",
    "care_site.to_sql('care_site', conn, if_exists='replace', index=False)\n",
    "\n",
    "conn.commit()\n",
    "conn.close()"
   ]
  },
  {
   "cell_type": "code",
   "execution_count": 35,
   "metadata": {},
   "outputs": [
    {
     "name": "stdout",
     "output_type": "stream",
     "text": [
      "   cc_site_id                 care_site_name  care_site_source_value  \\\n",
      "0           1  l'Hôpital Privé des Peupliers               750300360   \n",
      "1           2            Pharmacie Plaisance               750023772   \n",
      "\n",
      "   location_id  \n",
      "0            0  \n",
      "1            0  \n"
     ]
    }
   ],
   "source": [
    "# verifier que ça fonctionne \n",
    "conn = sqlite3.connect(\"omop.db\")\n",
    "cursor = conn.cursor()\n",
    "\n",
    "# Lister toutes les tables\n",
    "df_care_site = pd.read_sql_query(\"SELECT * FROM care_site;\", conn)\n",
    "print(df_care_site.head())\n",
    "\n",
    "conn.close()\n"
   ]
  }
 ],
 "metadata": {
  "kernelspec": {
   "display_name": ".venv",
   "language": "python",
   "name": "python3"
  },
  "language_info": {
   "codemirror_mode": {
    "name": "ipython",
    "version": 3
   },
   "file_extension": ".py",
   "mimetype": "text/x-python",
   "name": "python",
   "nbconvert_exporter": "python",
   "pygments_lexer": "ipython3",
   "version": "3.12.3"
  }
 },
 "nbformat": 4,
 "nbformat_minor": 2
}
