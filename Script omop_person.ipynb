{
 "cells": [
  {
   "cell_type": "markdown",
   "metadata": {},
   "source": [
    "\n",
    "#### Hypothèse :\n",
    "##### Sur la base de la question posée, et sachant que le format OMOP possède d'autres colonnes, je me suis strictement limité aux colonnes demandées pour la table \"Person\"."
   ]
  },
  {
   "cell_type": "code",
   "execution_count": null,
   "metadata": {},
   "outputs": [],
   "source": [
    "# Importation des bibliothèques nécessaires\n",
    "import pandas as pd\n",
    "\n",
    "# Chargement des données sources\n",
    "# Lecture de la table contenant les informations des assurés\n",
    "assurance_info = pd.read_csv(\"ir_ben_r.csv\")\n",
    "\n",
    "# Affichage de la structure des données \n",
    "print(assurance_info.head())\n",
    "\n",
    "# Étape 1 : Gestion des données manquantes et dupliquées\n",
    "#verification de la donnée : les lignes dupliquées, les valeurs manquantes, necessité de verifier la coherence, faite en regardant chaque colonne\n",
    "assurance_info.isna().sum()\n",
    "assurance_info.duplicated().sum()\n",
    "\n",
    "# Étape 2 : Mapping des identifiants des personnes\n",
    "#Afin d'avoir un identifiant OMOP pour les patients, je crée la table person_mapping, et la colonne person_id en autoincrémentation\n",
    "person_mapping = assurance_info[['NUM_ENQ']].copy()\n",
    "person_mapping['person_id'] = range(1, len(person_mapping) + 1)\n",
    "person_mapping\n",
    "\n",
    "# Étape 3 : Transformation des données \n",
    "omop_person = assurance_info.merge(person_mapping, on='NUM_ENQ')\n",
    "omop_person['person_id'] = omop_person['person_id']\n",
    "omop_person['gender_concept_id'] = omop_person['ben_sex_cod']\n",
    "omop_person['year_of_birth']=omop_person['ben_nai_ann']\n",
    "omop_person['month_of_birth']=omop_person['ben_nai_moi']\n",
    "omop_person['person_source_value']=omop_person['NUM_ENQ']\n",
    "omop_person['location_id']=omop_person['ben_res_dpt']\n",
    "omop_person['gender_source_value']=omop_person['gender_concept_id'].map({1: 'M', 2: 'F'})\n",
    "\n",
    "#reorganisation de notre table omop_person\n",
    "omop_person = omop_person[['person_id', 'gender_concept_id', 'year_of_birth', 'month_of_birth', 'person_source_value', 'location_id', 'gender_source_value']]\n",
    "\n",
    "#Verification de la coherence des types des colonnes, selon la norme officielle de la methode\n",
    "print(omop_person.dtypes)\n",
    "\n",
    "#enregistrement en format csv\n",
    "omop_person.to_csv(\"omop_person.csv\", index=False)\n",
    "\n",
    "\n"
   ]
  }
 ],
 "metadata": {
  "language_info": {
   "name": "python"
  }
 },
 "nbformat": 4,
 "nbformat_minor": 2
}
